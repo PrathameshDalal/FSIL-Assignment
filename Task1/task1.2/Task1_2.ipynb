{
  "cells": [
    {
      "cell_type": "markdown",
      "metadata": {
        "id": "6J5NHOR4okdD"
      },
      "source": [
        "# Task1.2: Getting Insights from 10K Filings\n",
        "\n"
      ]
    },
    {
      "cell_type": "markdown",
      "metadata": {
        "id": "yTvg8HqlZeJr"
      },
      "source": [
        "# Installing Libraries & Setting Up Environment Keys"
      ]
    },
    {
      "cell_type": "code",
      "execution_count": 1,
      "metadata": {
        "colab": {
          "base_uri": "https://localhost:8080/"
        },
        "id": "SIoCvU9IwyXb",
        "outputId": "80d633d5-9d73-4a63-a79f-c22958bc0dd0"
      },
      "outputs": [
        {
          "name": "stdout",
          "output_type": "stream",
          "text": [
            "Collecting kay\n",
            "  Downloading kay-0.1.2-py3-none-any.whl (9.1 kB)\n",
            "Collecting langchain\n",
            "  Downloading langchain-0.1.17-py3-none-any.whl (867 kB)\n",
            "\u001b[2K     \u001b[90m━━━━━━━━━━━━━━━━━━━━━━━━━━━━━━━━━━━━━━━━\u001b[0m \u001b[32m867.6/867.6 kB\u001b[0m \u001b[31m4.9 MB/s\u001b[0m eta \u001b[36m0:00:00\u001b[0m\n",
            "\u001b[?25hCollecting langchain_anthropic\n",
            "  Downloading langchain_anthropic-0.1.11-py3-none-any.whl (16 kB)\n",
            "Collecting gradio\n",
            "  Downloading gradio-4.29.0-py3-none-any.whl (12.3 MB)\n",
            "\u001b[2K     \u001b[90m━━━━━━━━━━━━━━━━━━━━━━━━━━━━━━━━━━━━━━━━\u001b[0m \u001b[32m12.3/12.3 MB\u001b[0m \u001b[31m23.5 MB/s\u001b[0m eta \u001b[36m0:00:00\u001b[0m\n",
            "\u001b[?25hRequirement already satisfied: requests>=2 in /usr/local/lib/python3.10/dist-packages (from kay) (2.31.0)\n",
            "Requirement already satisfied: PyYAML>=5.3 in /usr/local/lib/python3.10/dist-packages (from langchain) (6.0.1)\n",
            "Requirement already satisfied: SQLAlchemy<3,>=1.4 in /usr/local/lib/python3.10/dist-packages (from langchain) (2.0.29)\n",
            "Requirement already satisfied: aiohttp<4.0.0,>=3.8.3 in /usr/local/lib/python3.10/dist-packages (from langchain) (3.9.5)\n",
            "Requirement already satisfied: async-timeout<5.0.0,>=4.0.0 in /usr/local/lib/python3.10/dist-packages (from langchain) (4.0.3)\n",
            "Collecting dataclasses-json<0.7,>=0.5.7 (from langchain)\n",
            "  Downloading dataclasses_json-0.6.5-py3-none-any.whl (28 kB)\n",
            "Collecting jsonpatch<2.0,>=1.33 (from langchain)\n",
            "  Downloading jsonpatch-1.33-py2.py3-none-any.whl (12 kB)\n",
            "Collecting langchain-community<0.1,>=0.0.36 (from langchain)\n",
            "  Downloading langchain_community-0.0.36-py3-none-any.whl (2.0 MB)\n",
            "\u001b[2K     \u001b[90m━━━━━━━━━━━━━━━━━━━━━━━━━━━━━━━━━━━━━━━━\u001b[0m \u001b[32m2.0/2.0 MB\u001b[0m \u001b[31m35.4 MB/s\u001b[0m eta \u001b[36m0:00:00\u001b[0m\n",
            "\u001b[?25hCollecting langchain-core<0.2.0,>=0.1.48 (from langchain)\n",
            "  Downloading langchain_core-0.1.50-py3-none-any.whl (302 kB)\n",
            "\u001b[2K     \u001b[90m━━━━━━━━━━━━━━━━━━━━━━━━━━━━━━━━━━━━━━━━\u001b[0m \u001b[32m302.8/302.8 kB\u001b[0m \u001b[31m27.6 MB/s\u001b[0m eta \u001b[36m0:00:00\u001b[0m\n",
            "\u001b[?25hCollecting langchain-text-splitters<0.1,>=0.0.1 (from langchain)\n",
            "  Downloading langchain_text_splitters-0.0.1-py3-none-any.whl (21 kB)\n",
            "Collecting langsmith<0.2.0,>=0.1.17 (from langchain)\n",
            "  Downloading langsmith-0.1.54-py3-none-any.whl (116 kB)\n",
            "\u001b[2K     \u001b[90m━━━━━━━━━━━━━━━━━━━━━━━━━━━━━━━━━━━━━━━━\u001b[0m \u001b[32m116.7/116.7 kB\u001b[0m \u001b[31m11.8 MB/s\u001b[0m eta \u001b[36m0:00:00\u001b[0m\n",
            "\u001b[?25hRequirement already satisfied: numpy<2,>=1 in /usr/local/lib/python3.10/dist-packages (from langchain) (1.25.2)\n",
            "Requirement already satisfied: pydantic<3,>=1 in /usr/local/lib/python3.10/dist-packages (from langchain) (2.7.1)\n",
            "Requirement already satisfied: tenacity<9.0.0,>=8.1.0 in /usr/local/lib/python3.10/dist-packages (from langchain) (8.2.3)\n",
            "Collecting anthropic<1,>=0.23.0 (from langchain_anthropic)\n",
            "  Downloading anthropic-0.25.7-py3-none-any.whl (870 kB)\n",
            "\u001b[2K     \u001b[90m━━━━━━━━━━━━━━━━━━━━━━━━━━━━━━━━━━━━━━━━\u001b[0m \u001b[32m870.8/870.8 kB\u001b[0m \u001b[31m39.4 MB/s\u001b[0m eta \u001b[36m0:00:00\u001b[0m\n",
            "\u001b[?25hRequirement already satisfied: defusedxml<0.8.0,>=0.7.1 in /usr/local/lib/python3.10/dist-packages (from langchain_anthropic) (0.7.1)\n",
            "Collecting aiofiles<24.0,>=22.0 (from gradio)\n",
            "  Downloading aiofiles-23.2.1-py3-none-any.whl (15 kB)\n",
            "Requirement already satisfied: altair<6.0,>=4.2.0 in /usr/local/lib/python3.10/dist-packages (from gradio) (4.2.2)\n",
            "Collecting fastapi (from gradio)\n",
            "  Downloading fastapi-0.111.0-py3-none-any.whl (91 kB)\n",
            "\u001b[2K     \u001b[90m━━━━━━━━━━━━━━━━━━━━━━━━━━━━━━━━━━━━━━━━\u001b[0m \u001b[32m92.0/92.0 kB\u001b[0m \u001b[31m5.0 MB/s\u001b[0m eta \u001b[36m0:00:00\u001b[0m\n",
            "\u001b[?25hCollecting ffmpy (from gradio)\n",
            "  Downloading ffmpy-0.3.2.tar.gz (5.5 kB)\n",
            "  Preparing metadata (setup.py) ... \u001b[?25l\u001b[?25hdone\n",
            "Collecting gradio-client==0.16.1 (from gradio)\n",
            "  Downloading gradio_client-0.16.1-py3-none-any.whl (314 kB)\n",
            "\u001b[2K     \u001b[90m━━━━━━━━━━━━━━━━━━━━━━━━━━━━━━━━━━━━━━━━\u001b[0m \u001b[32m314.6/314.6 kB\u001b[0m \u001b[31m27.7 MB/s\u001b[0m eta \u001b[36m0:00:00\u001b[0m\n",
            "\u001b[?25hCollecting httpx>=0.24.1 (from gradio)\n",
            "  Downloading httpx-0.27.0-py3-none-any.whl (75 kB)\n",
            "\u001b[2K     \u001b[90m━━━━━━━━━━━━━━━━━━━━━━━━━━━━━━━━━━━━━━━━\u001b[0m \u001b[32m75.6/75.6 kB\u001b[0m \u001b[31m8.4 MB/s\u001b[0m eta \u001b[36m0:00:00\u001b[0m\n",
            "\u001b[?25hRequirement already satisfied: huggingface-hub>=0.19.3 in /usr/local/lib/python3.10/dist-packages (from gradio) (0.20.3)\n",
            "Requirement already satisfied: importlib-resources<7.0,>=1.3 in /usr/local/lib/python3.10/dist-packages (from gradio) (6.4.0)\n",
            "Requirement already satisfied: jinja2<4.0 in /usr/local/lib/python3.10/dist-packages (from gradio) (3.1.3)\n",
            "Requirement already satisfied: markupsafe~=2.0 in /usr/local/lib/python3.10/dist-packages (from gradio) (2.1.5)\n",
            "Requirement already satisfied: matplotlib~=3.0 in /usr/local/lib/python3.10/dist-packages (from gradio) (3.7.1)\n",
            "Collecting orjson~=3.0 (from gradio)\n",
            "  Downloading orjson-3.10.3-cp310-cp310-manylinux_2_17_x86_64.manylinux2014_x86_64.whl (142 kB)\n",
            "\u001b[2K     \u001b[90m━━━━━━━━━━━━━━━━━━━━━━━━━━━━━━━━━━━━━━━━\u001b[0m \u001b[32m142.5/142.5 kB\u001b[0m \u001b[31m6.6 MB/s\u001b[0m eta \u001b[36m0:00:00\u001b[0m\n",
            "\u001b[?25hRequirement already satisfied: packaging in /usr/local/lib/python3.10/dist-packages (from gradio) (24.0)\n",
            "Requirement already satisfied: pandas<3.0,>=1.0 in /usr/local/lib/python3.10/dist-packages (from gradio) (2.0.3)\n",
            "Requirement already satisfied: pillow<11.0,>=8.0 in /usr/local/lib/python3.10/dist-packages (from gradio) (9.4.0)\n",
            "Collecting pydub (from gradio)\n",
            "  Downloading pydub-0.25.1-py2.py3-none-any.whl (32 kB)\n",
            "Collecting python-multipart>=0.0.9 (from gradio)\n",
            "  Downloading python_multipart-0.0.9-py3-none-any.whl (22 kB)\n",
            "Collecting ruff>=0.2.2 (from gradio)\n",
            "  Downloading ruff-0.4.3-py3-none-manylinux_2_17_x86_64.manylinux2014_x86_64.whl (8.7 MB)\n",
            "\u001b[2K     \u001b[90m━━━━━━━━━━━━━━━━━━━━━━━━━━━━━━━━━━━━━━━━\u001b[0m \u001b[32m8.7/8.7 MB\u001b[0m \u001b[31m39.9 MB/s\u001b[0m eta \u001b[36m0:00:00\u001b[0m\n",
            "\u001b[?25hCollecting semantic-version~=2.0 (from gradio)\n",
            "  Downloading semantic_version-2.10.0-py2.py3-none-any.whl (15 kB)\n",
            "Collecting tomlkit==0.12.0 (from gradio)\n",
            "  Downloading tomlkit-0.12.0-py3-none-any.whl (37 kB)\n",
            "Collecting typer<1.0,>=0.12 (from gradio)\n",
            "  Downloading typer-0.12.3-py3-none-any.whl (47 kB)\n",
            "\u001b[2K     \u001b[90m━━━━━━━━━━━━━━━━━━━━━━━━━━━━━━━━━━━━━━━━\u001b[0m \u001b[32m47.2/47.2 kB\u001b[0m \u001b[31m7.1 MB/s\u001b[0m eta \u001b[36m0:00:00\u001b[0m\n",
            "\u001b[?25hRequirement already satisfied: typing-extensions~=4.0 in /usr/local/lib/python3.10/dist-packages (from gradio) (4.11.0)\n",
            "Requirement already satisfied: urllib3~=2.0 in /usr/local/lib/python3.10/dist-packages (from gradio) (2.0.7)\n",
            "Collecting uvicorn>=0.14.0 (from gradio)\n",
            "  Downloading uvicorn-0.29.0-py3-none-any.whl (60 kB)\n",
            "\u001b[2K     \u001b[90m━━━━━━━━━━━━━━━━━━━━━━━━━━━━━━━━━━━━━━━━\u001b[0m \u001b[32m60.8/60.8 kB\u001b[0m \u001b[31m9.1 MB/s\u001b[0m eta \u001b[36m0:00:00\u001b[0m\n",
            "\u001b[?25hRequirement already satisfied: fsspec in /usr/local/lib/python3.10/dist-packages (from gradio-client==0.16.1->gradio) (2023.6.0)\n",
            "Collecting websockets<12.0,>=10.0 (from gradio-client==0.16.1->gradio)\n",
            "  Downloading websockets-11.0.3-cp310-cp310-manylinux_2_5_x86_64.manylinux1_x86_64.manylinux_2_17_x86_64.manylinux2014_x86_64.whl (129 kB)\n",
            "\u001b[2K     \u001b[90m━━━━━━━━━━━━━━━━━━━━━━━━━━━━━━━━━━━━━━━━\u001b[0m \u001b[32m129.9/129.9 kB\u001b[0m \u001b[31m17.4 MB/s\u001b[0m eta \u001b[36m0:00:00\u001b[0m\n",
            "\u001b[?25hRequirement already satisfied: aiosignal>=1.1.2 in /usr/local/lib/python3.10/dist-packages (from aiohttp<4.0.0,>=3.8.3->langchain) (1.3.1)\n",
            "Requirement already satisfied: attrs>=17.3.0 in /usr/local/lib/python3.10/dist-packages (from aiohttp<4.0.0,>=3.8.3->langchain) (23.2.0)\n",
            "Requirement already satisfied: frozenlist>=1.1.1 in /usr/local/lib/python3.10/dist-packages (from aiohttp<4.0.0,>=3.8.3->langchain) (1.4.1)\n",
            "Requirement already satisfied: multidict<7.0,>=4.5 in /usr/local/lib/python3.10/dist-packages (from aiohttp<4.0.0,>=3.8.3->langchain) (6.0.5)\n",
            "Requirement already satisfied: yarl<2.0,>=1.0 in /usr/local/lib/python3.10/dist-packages (from aiohttp<4.0.0,>=3.8.3->langchain) (1.9.4)\n",
            "Requirement already satisfied: entrypoints in /usr/local/lib/python3.10/dist-packages (from altair<6.0,>=4.2.0->gradio) (0.4)\n",
            "Requirement already satisfied: jsonschema>=3.0 in /usr/local/lib/python3.10/dist-packages (from altair<6.0,>=4.2.0->gradio) (4.19.2)\n",
            "Requirement already satisfied: toolz in /usr/local/lib/python3.10/dist-packages (from altair<6.0,>=4.2.0->gradio) (0.12.1)\n",
            "Requirement already satisfied: anyio<5,>=3.5.0 in /usr/local/lib/python3.10/dist-packages (from anthropic<1,>=0.23.0->langchain_anthropic) (3.7.1)\n",
            "Requirement already satisfied: distro<2,>=1.7.0 in /usr/lib/python3/dist-packages (from anthropic<1,>=0.23.0->langchain_anthropic) (1.7.0)\n",
            "Requirement already satisfied: sniffio in /usr/local/lib/python3.10/dist-packages (from anthropic<1,>=0.23.0->langchain_anthropic) (1.3.1)\n",
            "Requirement already satisfied: tokenizers>=0.13.0 in /usr/local/lib/python3.10/dist-packages (from anthropic<1,>=0.23.0->langchain_anthropic) (0.19.1)\n",
            "Collecting marshmallow<4.0.0,>=3.18.0 (from dataclasses-json<0.7,>=0.5.7->langchain)\n",
            "  Downloading marshmallow-3.21.2-py3-none-any.whl (49 kB)\n",
            "\u001b[2K     \u001b[90m━━━━━━━━━━━━━━━━━━━━━━━━━━━━━━━━━━━━━━━━\u001b[0m \u001b[32m49.3/49.3 kB\u001b[0m \u001b[31m6.4 MB/s\u001b[0m eta \u001b[36m0:00:00\u001b[0m\n",
            "\u001b[?25hCollecting typing-inspect<1,>=0.4.0 (from dataclasses-json<0.7,>=0.5.7->langchain)\n",
            "  Downloading typing_inspect-0.9.0-py3-none-any.whl (8.8 kB)\n",
            "Requirement already satisfied: certifi in /usr/local/lib/python3.10/dist-packages (from httpx>=0.24.1->gradio) (2024.2.2)\n",
            "Collecting httpcore==1.* (from httpx>=0.24.1->gradio)\n",
            "  Downloading httpcore-1.0.5-py3-none-any.whl (77 kB)\n",
            "\u001b[2K     \u001b[90m━━━━━━━━━━━━━━━━━━━━━━━━━━━━━━━━━━━━━━━━\u001b[0m \u001b[32m77.9/77.9 kB\u001b[0m \u001b[31m4.5 MB/s\u001b[0m eta \u001b[36m0:00:00\u001b[0m\n",
            "\u001b[?25hRequirement already satisfied: idna in /usr/local/lib/python3.10/dist-packages (from httpx>=0.24.1->gradio) (3.7)\n",
            "Collecting h11<0.15,>=0.13 (from httpcore==1.*->httpx>=0.24.1->gradio)\n",
            "  Downloading h11-0.14.0-py3-none-any.whl (58 kB)\n",
            "\u001b[2K     \u001b[90m━━━━━━━━━━━━━━━━━━━━━━━━━━━━━━━━━━━━━━━━\u001b[0m \u001b[32m58.3/58.3 kB\u001b[0m \u001b[31m7.3 MB/s\u001b[0m eta \u001b[36m0:00:00\u001b[0m\n",
            "\u001b[?25hRequirement already satisfied: filelock in /usr/local/lib/python3.10/dist-packages (from huggingface-hub>=0.19.3->gradio) (3.14.0)\n",
            "Requirement already satisfied: tqdm>=4.42.1 in /usr/local/lib/python3.10/dist-packages (from huggingface-hub>=0.19.3->gradio) (4.66.2)\n",
            "Collecting jsonpointer>=1.9 (from jsonpatch<2.0,>=1.33->langchain)\n",
            "  Downloading jsonpointer-2.4-py2.py3-none-any.whl (7.8 kB)\n",
            "Collecting packaging (from gradio)\n",
            "  Downloading packaging-23.2-py3-none-any.whl (53 kB)\n",
            "\u001b[2K     \u001b[90m━━━━━━━━━━━━━━━━━━━━━━━━━━━━━━━━━━━━━━━━\u001b[0m \u001b[32m53.0/53.0 kB\u001b[0m \u001b[31m8.2 MB/s\u001b[0m eta \u001b[36m0:00:00\u001b[0m\n",
            "\u001b[?25hRequirement already satisfied: contourpy>=1.0.1 in /usr/local/lib/python3.10/dist-packages (from matplotlib~=3.0->gradio) (1.2.1)\n",
            "Requirement already satisfied: cycler>=0.10 in /usr/local/lib/python3.10/dist-packages (from matplotlib~=3.0->gradio) (0.12.1)\n",
            "Requirement already satisfied: fonttools>=4.22.0 in /usr/local/lib/python3.10/dist-packages (from matplotlib~=3.0->gradio) (4.51.0)\n",
            "Requirement already satisfied: kiwisolver>=1.0.1 in /usr/local/lib/python3.10/dist-packages (from matplotlib~=3.0->gradio) (1.4.5)\n",
            "Requirement already satisfied: pyparsing>=2.3.1 in /usr/local/lib/python3.10/dist-packages (from matplotlib~=3.0->gradio) (3.1.2)\n",
            "Requirement already satisfied: python-dateutil>=2.7 in /usr/local/lib/python3.10/dist-packages (from matplotlib~=3.0->gradio) (2.8.2)\n",
            "Requirement already satisfied: pytz>=2020.1 in /usr/local/lib/python3.10/dist-packages (from pandas<3.0,>=1.0->gradio) (2023.4)\n",
            "Requirement already satisfied: tzdata>=2022.1 in /usr/local/lib/python3.10/dist-packages (from pandas<3.0,>=1.0->gradio) (2024.1)\n",
            "Requirement already satisfied: annotated-types>=0.4.0 in /usr/local/lib/python3.10/dist-packages (from pydantic<3,>=1->langchain) (0.6.0)\n",
            "Requirement already satisfied: pydantic-core==2.18.2 in /usr/local/lib/python3.10/dist-packages (from pydantic<3,>=1->langchain) (2.18.2)\n",
            "Requirement already satisfied: charset-normalizer<4,>=2 in /usr/local/lib/python3.10/dist-packages (from requests>=2->kay) (3.3.2)\n",
            "Requirement already satisfied: greenlet!=0.4.17 in /usr/local/lib/python3.10/dist-packages (from SQLAlchemy<3,>=1.4->langchain) (3.0.3)\n",
            "Requirement already satisfied: click>=8.0.0 in /usr/local/lib/python3.10/dist-packages (from typer<1.0,>=0.12->gradio) (8.1.7)\n",
            "Collecting shellingham>=1.3.0 (from typer<1.0,>=0.12->gradio)\n",
            "  Downloading shellingham-1.5.4-py2.py3-none-any.whl (9.8 kB)\n",
            "Requirement already satisfied: rich>=10.11.0 in /usr/local/lib/python3.10/dist-packages (from typer<1.0,>=0.12->gradio) (13.7.1)\n",
            "Collecting starlette<0.38.0,>=0.37.2 (from fastapi->gradio)\n",
            "  Downloading starlette-0.37.2-py3-none-any.whl (71 kB)\n",
            "\u001b[2K     \u001b[90m━━━━━━━━━━━━━━━━━━━━━━━━━━━━━━━━━━━━━━━━\u001b[0m \u001b[32m71.9/71.9 kB\u001b[0m \u001b[31m8.3 MB/s\u001b[0m eta \u001b[36m0:00:00\u001b[0m\n",
            "\u001b[?25hCollecting fastapi-cli>=0.0.2 (from fastapi->gradio)\n",
            "  Downloading fastapi_cli-0.0.2-py3-none-any.whl (9.1 kB)\n",
            "Collecting ujson!=4.0.2,!=4.1.0,!=4.2.0,!=4.3.0,!=5.0.0,!=5.1.0,>=4.0.1 (from fastapi->gradio)\n",
            "  Downloading ujson-5.9.0-cp310-cp310-manylinux_2_17_x86_64.manylinux2014_x86_64.whl (53 kB)\n",
            "\u001b[2K     \u001b[90m━━━━━━━━━━━━━━━━━━━━━━━━━━━━━━━━━━━━━━━━\u001b[0m \u001b[32m53.2/53.2 kB\u001b[0m \u001b[31m7.5 MB/s\u001b[0m eta \u001b[36m0:00:00\u001b[0m\n",
            "\u001b[?25hCollecting email_validator>=2.0.0 (from fastapi->gradio)\n",
            "  Downloading email_validator-2.1.1-py3-none-any.whl (30 kB)\n",
            "Requirement already satisfied: exceptiongroup in /usr/local/lib/python3.10/dist-packages (from anyio<5,>=3.5.0->anthropic<1,>=0.23.0->langchain_anthropic) (1.2.1)\n",
            "Collecting dnspython>=2.0.0 (from email_validator>=2.0.0->fastapi->gradio)\n",
            "  Downloading dnspython-2.6.1-py3-none-any.whl (307 kB)\n",
            "\u001b[2K     \u001b[90m━━━━━━━━━━━━━━━━━━━━━━━━━━━━━━━━━━━━━━━━\u001b[0m \u001b[32m307.7/307.7 kB\u001b[0m \u001b[31m33.1 MB/s\u001b[0m eta \u001b[36m0:00:00\u001b[0m\n",
            "\u001b[?25hRequirement already satisfied: jsonschema-specifications>=2023.03.6 in /usr/local/lib/python3.10/dist-packages (from jsonschema>=3.0->altair<6.0,>=4.2.0->gradio) (2023.12.1)\n",
            "Requirement already satisfied: referencing>=0.28.4 in /usr/local/lib/python3.10/dist-packages (from jsonschema>=3.0->altair<6.0,>=4.2.0->gradio) (0.35.0)\n",
            "Requirement already satisfied: rpds-py>=0.7.1 in /usr/local/lib/python3.10/dist-packages (from jsonschema>=3.0->altair<6.0,>=4.2.0->gradio) (0.18.0)\n",
            "Requirement already satisfied: six>=1.5 in /usr/local/lib/python3.10/dist-packages (from python-dateutil>=2.7->matplotlib~=3.0->gradio) (1.16.0)\n",
            "Requirement already satisfied: markdown-it-py>=2.2.0 in /usr/local/lib/python3.10/dist-packages (from rich>=10.11.0->typer<1.0,>=0.12->gradio) (3.0.0)\n",
            "Requirement already satisfied: pygments<3.0.0,>=2.13.0 in /usr/local/lib/python3.10/dist-packages (from rich>=10.11.0->typer<1.0,>=0.12->gradio) (2.16.1)\n",
            "Collecting mypy-extensions>=0.3.0 (from typing-inspect<1,>=0.4.0->dataclasses-json<0.7,>=0.5.7->langchain)\n",
            "  Downloading mypy_extensions-1.0.0-py3-none-any.whl (4.7 kB)\n",
            "Collecting httptools>=0.5.0 (from uvicorn>=0.14.0->gradio)\n",
            "  Downloading httptools-0.6.1-cp310-cp310-manylinux_2_5_x86_64.manylinux1_x86_64.manylinux_2_17_x86_64.manylinux2014_x86_64.whl (341 kB)\n",
            "\u001b[2K     \u001b[90m━━━━━━━━━━━━━━━━━━━━━━━━━━━━━━━━━━━━━━━━\u001b[0m \u001b[32m341.4/341.4 kB\u001b[0m \u001b[31m38.8 MB/s\u001b[0m eta \u001b[36m0:00:00\u001b[0m\n",
            "\u001b[?25hCollecting python-dotenv>=0.13 (from uvicorn>=0.14.0->gradio)\n",
            "  Downloading python_dotenv-1.0.1-py3-none-any.whl (19 kB)\n",
            "Collecting uvloop!=0.15.0,!=0.15.1,>=0.14.0 (from uvicorn>=0.14.0->gradio)\n",
            "  Downloading uvloop-0.19.0-cp310-cp310-manylinux_2_17_x86_64.manylinux2014_x86_64.whl (3.4 MB)\n",
            "\u001b[2K     \u001b[90m━━━━━━━━━━━━━━━━━━━━━━━━━━━━━━━━━━━━━━━━\u001b[0m \u001b[32m3.4/3.4 MB\u001b[0m \u001b[31m72.2 MB/s\u001b[0m eta \u001b[36m0:00:00\u001b[0m\n",
            "\u001b[?25hCollecting watchfiles>=0.13 (from uvicorn>=0.14.0->gradio)\n",
            "  Downloading watchfiles-0.21.0-cp310-cp310-manylinux_2_17_x86_64.manylinux2014_x86_64.whl (1.3 MB)\n",
            "\u001b[2K     \u001b[90m━━━━━━━━━━━━━━━━━━━━━━━━━━━━━━━━━━━━━━━━\u001b[0m \u001b[32m1.3/1.3 MB\u001b[0m \u001b[31m53.8 MB/s\u001b[0m eta \u001b[36m0:00:00\u001b[0m\n",
            "\u001b[?25hRequirement already satisfied: mdurl~=0.1 in /usr/local/lib/python3.10/dist-packages (from markdown-it-py>=2.2.0->rich>=10.11.0->typer<1.0,>=0.12->gradio) (0.1.2)\n",
            "Building wheels for collected packages: ffmpy\n",
            "  Building wheel for ffmpy (setup.py) ... \u001b[?25l\u001b[?25hdone\n",
            "  Created wheel for ffmpy: filename=ffmpy-0.3.2-py3-none-any.whl size=5584 sha256=b48faf1f75f3d103b2ed0b7836f14839c18f5ccde0c3e10d4d2302190affa4a1\n",
            "  Stored in directory: /root/.cache/pip/wheels/bd/65/9a/671fc6dcde07d4418df0c592f8df512b26d7a0029c2a23dd81\n",
            "Successfully built ffmpy\n",
            "Installing collected packages: pydub, ffmpy, websockets, uvloop, ujson, tomlkit, shellingham, semantic-version, ruff, python-multipart, python-dotenv, packaging, orjson, mypy-extensions, jsonpointer, httptools, h11, dnspython, aiofiles, watchfiles, uvicorn, typing-inspect, starlette, marshmallow, kay, jsonpatch, httpcore, email_validator, typer, langsmith, httpx, dataclasses-json, langchain-core, gradio-client, anthropic, langchain-text-splitters, langchain-community, langchain_anthropic, langchain, fastapi-cli, fastapi, gradio\n",
            "  Attempting uninstall: packaging\n",
            "    Found existing installation: packaging 24.0\n",
            "    Uninstalling packaging-24.0:\n",
            "      Successfully uninstalled packaging-24.0\n",
            "  Attempting uninstall: typer\n",
            "    Found existing installation: typer 0.9.4\n",
            "    Uninstalling typer-0.9.4:\n",
            "      Successfully uninstalled typer-0.9.4\n",
            "\u001b[31mERROR: pip's dependency resolver does not currently take into account all the packages that are installed. This behaviour is the source of the following dependency conflicts.\n",
            "spacy 3.7.4 requires typer<0.10.0,>=0.3.0, but you have typer 0.12.3 which is incompatible.\n",
            "weasel 0.3.4 requires typer<0.10.0,>=0.3.0, but you have typer 0.12.3 which is incompatible.\u001b[0m\u001b[31m\n",
            "\u001b[0mSuccessfully installed aiofiles-23.2.1 anthropic-0.25.7 dataclasses-json-0.6.5 dnspython-2.6.1 email_validator-2.1.1 fastapi-0.111.0 fastapi-cli-0.0.2 ffmpy-0.3.2 gradio-4.29.0 gradio-client-0.16.1 h11-0.14.0 httpcore-1.0.5 httptools-0.6.1 httpx-0.27.0 jsonpatch-1.33 jsonpointer-2.4 kay-0.1.2 langchain-0.1.17 langchain-community-0.0.36 langchain-core-0.1.50 langchain-text-splitters-0.0.1 langchain_anthropic-0.1.11 langsmith-0.1.54 marshmallow-3.21.2 mypy-extensions-1.0.0 orjson-3.10.3 packaging-23.2 pydub-0.25.1 python-dotenv-1.0.1 python-multipart-0.0.9 ruff-0.4.3 semantic-version-2.10.0 shellingham-1.5.4 starlette-0.37.2 tomlkit-0.12.0 typer-0.12.3 typing-inspect-0.9.0 ujson-5.9.0 uvicorn-0.29.0 uvloop-0.19.0 watchfiles-0.21.0 websockets-11.0.3\n"
          ]
        }
      ],
      "source": [
        "!pip install kay langchain langchain_anthropic gradio"
      ]
    },
    {
      "cell_type": "markdown",
      "metadata": {
        "id": "ZS-H0bZNZpjP"
      },
      "source": [
        "# Getting Insights using Langchain, Kay and Claude 3"
      ]
    },
    {
      "cell_type": "markdown",
      "metadata": {
        "id": "F6SR3tmmp2e1"
      },
      "source": [
        "## Example: NVIDIA (NVDA)"
      ]
    },
    {
      "cell_type": "code",
      "execution_count": 11,
      "metadata": {
        "id": "ATCTU884xoXC"
      },
      "outputs": [],
      "source": [
        "#importing Necessary Modules\n",
        "from langchain.chains import ConversationalRetrievalChain\n",
        "from langchain_community.retrievers import KayAiRetriever\n",
        "from langchain_anthropic import ChatAnthropic\n",
        "\n",
        "#Taking Input\n",
        "company = \"NVDA\"\n",
        "\n",
        "#llm-model\n",
        "model = ChatAnthropic(\n",
        "        model_name=\"claude-3-sonnet-20240229\"\n",
        "    )\n",
        "\n",
        "#Kay Retriever for SEC Insights\n",
        "retriever = KayAiRetriever.create(\n",
        "        dataset_id=\"company\", data_types=[\"10-K\"], num_contexts=10\n",
        "    )\n",
        "\n",
        "#Creating a conversational chain using langchain to use both model and retriever.\n",
        "qa = ConversationalRetrievalChain.from_llm(model, retriever=retriever)\n",
        "chat_history = []\n",
        "#PROMTs To generate Insights\n",
        "questions = [\n",
        "    f\"Summarize the {company}'s financial performance over the past years, including revenue growth, profitability (net income), and margins in ENGLISH.\",\n",
        "    f\"Identify and analyze {company}'s earnings per share (EPS diluted and basic), Calculate Return on equity (ROE) and Debt-to-Equity ratio For past few years in ENGLISH.\",\n",
        "    f\"Add bullet points for main risks identified by {company} in its 10-K filing in ENGLISH.\" ]\n"
      ]
    },
    {
      "cell_type": "markdown",
      "metadata": {
        "id": "WpGaLPkMZ1nK"
      },
      "source": [
        "### Insights"
      ]
    },
    {
      "cell_type": "markdown",
      "metadata": {
        "id": "-O1h39Z3kiLJ"
      },
      "source": [
        "1. Financial Performance of the Company, Revenue Growth, Profitability and Margin.\n"
      ]
    },
    {
      "cell_type": "code",
      "execution_count": 8,
      "metadata": {
        "colab": {
          "base_uri": "https://localhost:8080/"
        },
        "id": "djywIWGcY-4N",
        "outputId": "7a0e9cec-d54a-4849-d431-f1ff64e8f37b"
      },
      "outputs": [
        {
          "name": "stdout",
          "output_type": "stream",
          "text": [
            "-> **Question**: Summarize the NVDA's financial performance over the past years, including revenue growth, profitability (net income), and margins in ENGLISH. \n",
            "\n",
            "**Answer**: Based on the information provided in the 10-K filings, here is a summary of NVIDIA's recent financial performance:\n",
            "\n",
            "Revenue Growth:\n",
            "- For fiscal year 2023 (ended Jan 29, 2023), revenue was $26.97 billion, roughly flat compared to $26.91 billion in fiscal 2022.\n",
            "- For fiscal 2022, revenue grew 61% year-over-year from $16.68 billion in fiscal 2021.\n",
            "- Revenue growth in fiscal 2022 was driven by strong demand for NVIDIA's Ampere architecture products, particularly in the Data Center and Gaming segments.\n",
            "\n",
            "Profitability (Net Income):\n",
            "- Net income declined in fiscal 2023 to $4.37 billion, down 55% from $9.75 billion in fiscal 2022.\n",
            "- In fiscal 2022, net income more than doubled to $9.75 billion, up 125% from $4.33 billion in fiscal 2021. \n",
            "\n",
            "Margins:\n",
            "- Gross margin declined to 56.9% in fiscal 2023 from 64.9% in fiscal 2022, primarily due to $2.17 billion in inventory charges.\n",
            "- Gross margin improved to 64.9% in fiscal 2022 from 62.3% in fiscal 2021.\n",
            "\n",
            "In summary, NVIDIA experienced very strong revenue and profit growth in fiscal 2022 driven by demand for its new products, but saw a pullback in fiscal 2023 with flat revenue and lower profitability due to inventory charges and macroeconomic headwinds impacting gaming demand. \n",
            "\n"
          ]
        }
      ],
      "source": [
        "result = qa({\"question\": questions[0], \"chat_history\": chat_history})\n",
        "chat_history.append((questions[0], result[\"answer\"]))\n",
        "print(f\"-> **Question**: {questions[0]} \\n\")\n",
        "print(f\"**Answer**: {result['answer']} \\n\")"
      ]
    },
    {
      "cell_type": "markdown",
      "metadata": {
        "id": "R8M5zLQGkvyg"
      },
      "source": [
        "2. Company's Earning per share (EPS), Return on Equity (RoE) and Debt-to-Equity Ratio"
      ]
    },
    {
      "cell_type": "code",
      "execution_count": 9,
      "metadata": {
        "colab": {
          "base_uri": "https://localhost:8080/"
        },
        "id": "S_m5ofzRZHZf",
        "outputId": "fa308469-762e-4209-bd13-d8e9a223a042"
      },
      "outputs": [
        {
          "name": "stdout",
          "output_type": "stream",
          "text": [
            "-> **Question**: Identify and analyze NVDA's earnings per share (EPS diluted and basic), Calculate Return on equity (ROE) and Debt-to-Equity ratio For past few years in ENGLISH. \n",
            "\n",
            "**Answer**: Based on the financial information provided in the Form 10-K filings, here is an analysis of NVIDIA's key financial metrics over the past 3 fiscal years:\n",
            "\n",
            "Earnings Per Share (Diluted):\n",
            "FY2023 (ended Jan 29, 2023): $1.74\n",
            "FY2022 (ended Jan 30, 2022): $3.85\n",
            "FY2021 (ended Jan 31, 2021): $1.73\n",
            "\n",
            "Earnings Per Share (Basic):\n",
            "FY2023: $1.76  \n",
            "FY2022: $3.91\n",
            "FY2021: $1.76\n",
            "\n",
            "NVIDIA's diluted EPS declined by 55% in FY2023 compared to FY2022, going from $3.85 to $1.74. Basic EPS also saw a similar 55% year-over-year decline. This was driven by a 55% drop in net income from $9.75 billion in FY2022 to $4.37 billion in FY2023.\n",
            "\n",
            "Return on Equity:\n",
            "This requires calculating net income divided by shareholders' equity for each period.\n",
            "FY2023 ROE = $4,368M net income / $26,159M shareholders' equity = 16.7%\n",
            "FY2022 ROE = $9,752M / $24,728M = 39.4%\n",
            "FY2021 ROE = $4,332M / $16,893M = 25.6%\n",
            "\n",
            "NVIDIA's ROE declined from 39.4% in FY2022 to 16.7% in FY2023, as net income dropped while equity increased.\n",
            "\n",
            "Debt-to-Equity Ratio: \n",
            "This is calculated as total debt divided by total shareholders' equity.\n",
            "The 10-K does not provide detailed breakouts of total debt each year, but it does show:\n",
            "\n",
            "FY2023: Long-term debt of $11.99 billion\n",
            "FY2022: Long-term debt of $6.97 billion \n",
            "\n",
            "Using these long-term debt numbers as an estimate:\n",
            "\n",
            "FY2023 D/E = $11.99B / $26.16B = 0.46\n",
            "FY2022 D/E = $6.97B / $24.73B = 0.28\n",
            "\n",
            "The debt-to-equity ratio increased from 0.28 in FY2022 to 0.46 in FY2023, indicating NVIDIA took on more debt relative to its equity base.\n",
            "\n",
            "In summary, NVIDIA's earnings per share, return on equity, and debt load all moved in an unfavorable direction in fiscal 2023 compared to the prior year, reflecting the impact of weaker financial performance. However, the company maintained profitability and a relatively low debt-to-equity ratio overall. \n",
            "\n"
          ]
        }
      ],
      "source": [
        "result = qa({\"question\": questions[1], \"chat_history\": chat_history})\n",
        "chat_history.append((questions[1], result[\"answer\"]))\n",
        "print(f\"-> **Question**: {questions[1]} \\n\")\n",
        "print(f\"**Answer**: {result['answer']} \\n\")"
      ]
    },
    {
      "cell_type": "markdown",
      "metadata": {
        "id": "IqMqcj6BlBZZ"
      },
      "source": [
        "3. Risk Analysis of the Company"
      ]
    },
    {
      "cell_type": "code",
      "execution_count": 10,
      "metadata": {
        "colab": {
          "base_uri": "https://localhost:8080/"
        },
        "id": "AF8WsSvzZJ1N",
        "outputId": "9766bb50-f01d-4e9e-d861-7d691cee3220"
      },
      "outputs": [
        {
          "name": "stdout",
          "output_type": "stream",
          "text": [
            "-> **Question**: Add bullet points for main risks identified by NVDA in its 10-K filing in ENGLISH. \n",
            "\n",
            "**Answer**: Based on the risk factors discussed in NVIDIA's 10-K filing, here are the main risks highlighted in bullet point form:\n",
            "\n",
            "- Failure to meet evolving needs of the industry and markets\n",
            "- Intense competition in current and target markets leading to loss of market share and revenue\n",
            "- Mismatches between supply and demand due to inaccurate demand estimation\n",
            "- Dependency on third-party suppliers reducing control over product quantity, quality, and schedules\n",
            "- Product defects causing significant expenses for remediation and damage to business\n",
            "- Inability to retain or hire qualified personnel\n",
            "- Intellectual property disputes and litigation risks\n",
            "- Cybersecurity breaches and vulnerabilities exposing sensitive data\n",
            "- Disruptions from natural disasters, geopolitical tensions, and other events beyond control\n",
            "- Inability to realize potential benefits from business investments or acquisitions\n",
            "- Decreased demand for energy-intensive products due to energy efficiency concerns\n",
            "- Supply chain constraints and capacity limitations at foundries and contract manufacturers \n",
            "\n"
          ]
        }
      ],
      "source": [
        "result = qa({\"question\": questions[2], \"chat_history\": chat_history})\n",
        "chat_history.append((questions[2], result[\"answer\"]))\n",
        "print(f\"-> **Question**: {questions[2]} \\n\")\n",
        "print(f\"**Answer**: {result['answer']} \\n\")"
      ]
    },
    {
      "cell_type": "markdown",
      "metadata": {
        "id": "Fi0IiNu9qCaT"
      },
      "source": [
        "## Example: APPLE (APPL)"
      ]
    },
    {
      "cell_type": "code",
      "execution_count": 12,
      "metadata": {
        "id": "cQsoK_JzqGxB"
      },
      "outputs": [],
      "source": [
        "#importing Necessary Modules\n",
        "from langchain.chains import ConversationalRetrievalChain\n",
        "from langchain_community.retrievers import KayAiRetriever\n",
        "from langchain_anthropic import ChatAnthropic\n",
        "\n",
        "#Taking Input\n",
        "company = \"APPL\"\n",
        "\n",
        "#llm-model\n",
        "model = ChatAnthropic(\n",
        "        model_name=\"claude-3-sonnet-20240229\"\n",
        "    )\n",
        "\n",
        "#Kay Retriever for SEC Insights\n",
        "retriever = KayAiRetriever.create(\n",
        "        dataset_id=\"company\", data_types=[\"10-K\"], num_contexts=10\n",
        "    )\n",
        "\n",
        "#Creating a conversational chain using langchain to use both model and retriever.\n",
        "qa = ConversationalRetrievalChain.from_llm(model, retriever=retriever)\n",
        "chat_history = []\n",
        "#PROMTs To generate Insights\n",
        "questions = [\n",
        "    f\"Summarize the {company}'s financial performance over the past years, including revenue growth, profitability (net income), and margins in ENGLISH.\",\n",
        "    f\"Identify and analyze {company}'s earnings per share (EPS diluted and basic), Calculate Return on equity (ROE) and Debt-to-Equity ratio For past few years in ENGLISH.\",\n",
        "    f\"Add bullet points for main risks identified by {company} in its 10-K filing in ENGLISH.\" ]\n"
      ]
    },
    {
      "cell_type": "markdown",
      "metadata": {
        "id": "XBRN5JwzqMGE"
      },
      "source": [
        "### Insights"
      ]
    },
    {
      "cell_type": "markdown",
      "metadata": {
        "id": "p6Nsgq3_qWuR"
      },
      "source": [
        "1. Financial Performance of the Company, Revenue Growth, Profitability and Margin.\n"
      ]
    },
    {
      "cell_type": "code",
      "execution_count": 13,
      "metadata": {
        "colab": {
          "base_uri": "https://localhost:8080/"
        },
        "id": "gMrDC6wwqPr_",
        "outputId": "878ae393-ec96-416c-9a62-9ef6e1070655"
      },
      "outputs": [
        {
          "name": "stdout",
          "output_type": "stream",
          "text": [
            "-> **Question**: Summarize the APPL's financial performance over the past years, including revenue growth, profitability (net income), and margins in ENGLISH. \n",
            "\n",
            "**Answer**: Based on the information provided in the 10-K filings, here is a summary of Apple Inc's (AAPL) financial performance over the past few years:\n",
            "\n",
            "Revenue Growth:\n",
            "- Total net sales increased by 33% or $91.3 billion in fiscal 2021 compared to 2020, driven by growth across all product and service categories.\n",
            "- Net sales grew year-over-year in fiscal 2021 in each of Apple's reportable geographic segments (Americas, Europe, Greater China, Japan, Rest of Asia Pacific).\n",
            "- In fiscal 2022, total net sales increased by 8% year-over-year to $394.3 billion, led by higher sales of iPhone, Services and Mac.\n",
            "\n",
            "Profitability (Net Income):\n",
            "- Net income was $99.8 billion in fiscal 2022, up from $94.7 billion in 2021 and $57.4 billion in 2020.\n",
            "- The increase in net income was driven by the company's revenue growth coupled with gross margin expansion.\n",
            "\n",
            "Margins:\n",
            "- Gross margin was 43.3% in fiscal 2022, compared to 41.8% in 2021 and 38.2% in 2020.\n",
            "- Products gross margin expanded to 35.3% in 2021 from 31.5% in 2020, due to factors like higher product volumes, product mix and favorable foreign exchange rates.\n",
            "- Services gross margin remains high at around 69-70% in recent years.\n",
            "\n",
            "In summary, Apple has reported strong financial performance over the past few years, with accelerating revenue growth, rising profitability driven by both revenue gains and margin expansion across its products and services offerings. \n",
            "\n"
          ]
        }
      ],
      "source": [
        "result = qa({\"question\": questions[0], \"chat_history\": chat_history})\n",
        "chat_history.append((questions[0], result[\"answer\"]))\n",
        "print(f\"-> **Question**: {questions[0]} \\n\")\n",
        "print(f\"**Answer**: {result['answer']} \\n\")"
      ]
    },
    {
      "cell_type": "markdown",
      "metadata": {
        "id": "iKB1xSYnqauM"
      },
      "source": [
        "2. Company's Earning per share (EPS), Return on Equity (RoE) and Debt-to-Equity Ratio"
      ]
    },
    {
      "cell_type": "code",
      "execution_count": 14,
      "metadata": {
        "colab": {
          "base_uri": "https://localhost:8080/"
        },
        "id": "NfJb81Eiqd-P",
        "outputId": "c62e0f30-8c25-40a4-8113-039f3aeb7409"
      },
      "outputs": [
        {
          "name": "stdout",
          "output_type": "stream",
          "text": [
            "-> **Question**: Identify and analyze APPL's earnings per share (EPS diluted and basic), Calculate Return on equity (ROE) and Debt-to-Equity ratio For past few years in ENGLISH. \n",
            "\n",
            "**Answer**: Based on the financial data provided in Apple's 10-K filings, I can analyze their earnings per share, return on equity, and debt-to-equity ratio for the past few years:\n",
            "\n",
            "Earnings Per Share (Diluted and Basic):\n",
            "\n",
            "2022\n",
            "Basic EPS: $6.15\n",
            "Diluted EPS: $6.11\n",
            "\n",
            "2021 \n",
            "Basic EPS: $5.67\n",
            "Diluted EPS: $5.61  \n",
            "\n",
            "2020\n",
            "Basic EPS: $3.31\n",
            "Diluted EPS: $3.28\n",
            "\n",
            "Return on Equity (ROE):\n",
            "ROE = Net Income / Average Shareholders' Equity\n",
            "\n",
            "2022: $99,803 million / [($50,672 million + $63,090 million)/2] = 197.1%\n",
            "\n",
            "2021: $94,680 million / [($63,090 million + $65,339 million)/2] = 148.6% \n",
            "\n",
            "2020: $57,411 million / [($65,339 million + $90,488 million)/2] = 78.2%\n",
            "\n",
            "Debt-to-Equity Ratio: \n",
            "Total Debt / Total Shareholders' Equity\n",
            "\n",
            "2022: ($118,719 million) / $50,672 million = 2.34\n",
            "\n",
            "2021: ($107,440 million) / $63,090 million = 1.70\n",
            "\n",
            "2020: ($103,663 million) / $65,339 million = 1.59\n",
            "\n",
            "In summary, Apple's earnings per share (basic and diluted) increased significantly from 2020 to 2022. Their return on equity was very high, over 145% in 2021 and 2022 due to their high profitability. The debt-to-equity ratio has increased from 1.59 in 2020 to 2.34 in 2022 as they took on more debt, but is still at a reasonable level. \n",
            "\n"
          ]
        }
      ],
      "source": [
        "result = qa({\"question\": questions[1], \"chat_history\": chat_history})\n",
        "chat_history.append((questions[1], result[\"answer\"]))\n",
        "print(f\"-> **Question**: {questions[1]} \\n\")\n",
        "print(f\"**Answer**: {result['answer']} \\n\")"
      ]
    },
    {
      "cell_type": "markdown",
      "metadata": {
        "id": "7pcB0Wq_qgV0"
      },
      "source": [
        "3. Risk Analysis of the Company"
      ]
    },
    {
      "cell_type": "code",
      "execution_count": 15,
      "metadata": {
        "colab": {
          "base_uri": "https://localhost:8080/"
        },
        "id": "u5NlqFEIqhLY",
        "outputId": "ea519cec-632e-4503-cacd-6724e947691c"
      },
      "outputs": [
        {
          "name": "stdout",
          "output_type": "stream",
          "text": [
            "-> **Question**: Add bullet points for main risks identified by APPL in its 10-K filing in ENGLISH. \n",
            "\n",
            "**Answer**: Based on the risk factors section from Apple's 10-K filing, some of the main risks identified include:\n",
            "\n",
            "- Product quality issues that could lead to defects, product liability claims, recalls, repairs, replacements and harm to reputation.\n",
            "\n",
            "- Rapidly evolving technologies requiring frequent new product introductions and transitions, with risks around market acceptance, production ramp up, inventory management, etc.\n",
            "\n",
            "- Data security risks like hacking, ransomware attacks, unauthorized access to confidential data including personal information of customers and employees.\n",
            "\n",
            "- Dependence on suppliers and third-parties who are also vulnerable to cyberattacks and disruptions.\n",
            "\n",
            "- Investment and acquisition risks like failing to obtain regulatory approvals or not realizing anticipated benefits.\n",
            "\n",
            "- Fluctuations in quarterly results and profit margins due to factors like pricing pressures, competition, product mix shifts, currency fluctuations, etc.\n",
            "\n",
            "- Privacy and regulatory risks around handling of sensitive data like health information and payment card data.\n",
            "\n",
            "So in summary, the key risks cover product quality, cybersecurity, technology transition, third-party dependencies, investments/M&A, financial volatility and data privacy/regulatory compliance. \n",
            "\n"
          ]
        }
      ],
      "source": [
        "result = qa({\"question\": questions[2], \"chat_history\": chat_history})\n",
        "chat_history.append((questions[2], result[\"answer\"]))\n",
        "print(f\"-> **Question**: {questions[2]} \\n\")\n",
        "print(f\"**Answer**: {result['answer']} \\n\")"
      ]
    }
  ],
  "metadata": {
    "accelerator": "GPU",
    "colab": {
      "gpuType": "T4",
      "provenance": []
    },
    "kernelspec": {
      "display_name": "Python 3",
      "name": "python3"
    },
    "language_info": {
      "name": "python"
    }
  },
  "nbformat": 4,
  "nbformat_minor": 0
}

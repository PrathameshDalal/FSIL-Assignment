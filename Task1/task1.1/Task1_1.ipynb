{
  "nbformat": 4,
  "nbformat_minor": 0,
  "metadata": {
    "colab": {
      "provenance": [],
      "gpuType": "T4"
    },
    "kernelspec": {
      "name": "python3",
      "display_name": "Python 3"
    },
    "language_info": {
      "name": "python"
    },
    "accelerator": "GPU"
  },
  "cells": [
    {
      "cell_type": "markdown",
      "source": [
        "# Task 1.1: Download Data from the SEC-EDGAR\n",
        "## The Goal of this Task is to download data of 10-K fillings of some companies from the sec-edgar database."
      ],
      "metadata": {
        "id": "VqbFucGq4cwb"
      }
    },
    {
      "cell_type": "markdown",
      "source": [
        "## Step 1: Installing the Sec-Edgar Downloader"
      ],
      "metadata": {
        "id": "1Qc8QUnh4QUI"
      }
    },
    {
      "cell_type": "code",
      "execution_count": null,
      "metadata": {
        "colab": {
          "base_uri": "https://localhost:8080/"
        },
        "id": "dnVpMWjH39JM",
        "outputId": "4edaff83-073b-4a44-e387-66d88a4cf204"
      },
      "outputs": [
        {
          "output_type": "stream",
          "name": "stdout",
          "text": [
            "Collecting sec-edgar-downloader\n",
            "  Downloading sec_edgar_downloader-5.0.2-py3-none-any.whl (14 kB)\n",
            "Requirement already satisfied: requests in /usr/local/lib/python3.10/dist-packages (from sec-edgar-downloader) (2.31.0)\n",
            "Collecting pyrate-limiter>=3.1.0 (from sec-edgar-downloader)\n",
            "  Downloading pyrate_limiter-3.6.1-py3-none-any.whl (26 kB)\n",
            "Requirement already satisfied: charset-normalizer<4,>=2 in /usr/local/lib/python3.10/dist-packages (from requests->sec-edgar-downloader) (3.3.2)\n",
            "Requirement already satisfied: idna<4,>=2.5 in /usr/local/lib/python3.10/dist-packages (from requests->sec-edgar-downloader) (3.7)\n",
            "Requirement already satisfied: urllib3<3,>=1.21.1 in /usr/local/lib/python3.10/dist-packages (from requests->sec-edgar-downloader) (2.0.7)\n",
            "Requirement already satisfied: certifi>=2017.4.17 in /usr/local/lib/python3.10/dist-packages (from requests->sec-edgar-downloader) (2024.2.2)\n",
            "Installing collected packages: pyrate-limiter, sec-edgar-downloader\n",
            "Successfully installed pyrate-limiter-3.6.1 sec-edgar-downloader-5.0.2\n"
          ]
        }
      ],
      "source": [
        "!pip install -U sec-edgar-downloader\n"
      ]
    },
    {
      "cell_type": "markdown",
      "source": [
        "## Step 2: Downloading the 10-K fillings from the *Sec-Edgar Database*"
      ],
      "metadata": {
        "id": "fZNHSriv5AmW"
      }
    },
    {
      "cell_type": "markdown",
      "source": [
        "The `sec-edgar-downloader` API has a Downloader API, to download different filing reports of any company."
      ],
      "metadata": {
        "id": "iL0DnFzl52ns"
      }
    },
    {
      "cell_type": "code",
      "source": [
        "from sec_edgar_downloader import Downloader"
      ],
      "metadata": {
        "id": "44P6qWv04Kp6"
      },
      "execution_count": null,
      "outputs": []
    },
    {
      "cell_type": "markdown",
      "source": [
        "We start with importing the Downloader from the `sec-edgar-downloader` library."
      ],
      "metadata": {
        "id": "4T5MZDiY6uYF"
      }
    },
    {
      "cell_type": "code",
      "source": [
        "# Creating a Downloader Object by passing in the 'company name', 'gmail' and 'path/to/save/location'\n",
        "D1 = Downloader(\"prathamesh\", \"prathameshdalal100@gmail.com\", \".\")"
      ],
      "metadata": {
        "id": "k_Wn-ZuF6tHr"
      },
      "execution_count": null,
      "outputs": []
    },
    {
      "cell_type": "code",
      "source": [
        "# Downloading the 10-K filings using GET Method\n",
        "\n",
        "D1.get(\"10-K\", \"AAPL\", after=\"1994-12-31\", before=\"2024-01-01\")\n"
      ],
      "metadata": {
        "colab": {
          "base_uri": "https://localhost:8080/"
        },
        "id": "YBY8VlTZ8DOA",
        "outputId": "a7333ecc-187d-4d61-ff68-88b8a9089ab1"
      },
      "execution_count": null,
      "outputs": [
        {
          "output_type": "execute_result",
          "data": {
            "text/plain": [
              "27"
            ]
          },
          "metadata": {},
          "execution_count": 4
        }
      ]
    },
    {
      "cell_type": "markdown",
      "source": [
        "The above Code downloads the 10-K filings of AAPL (short for APPLE INC) for the period 1995 to 2023. The output after running the code is 27, meaning there are 27 filing reports downloaded for the company between the given dates."
      ],
      "metadata": {
        "id": "td9PCa85_xk5"
      }
    },
    {
      "cell_type": "markdown",
      "source": [
        "Similarly, Lets download 10-K filings for `Microsoft` and `BANCFIRST CORP`for the same period"
      ],
      "metadata": {
        "id": "QETlEJ4OAKtb"
      }
    },
    {
      "cell_type": "code",
      "source": [
        "D1.get(\"10-K\", \"MSFT\", after=\"1994-12-31\", before=\"2024-01-01\")"
      ],
      "metadata": {
        "colab": {
          "base_uri": "https://localhost:8080/"
        },
        "id": "9gRx_aMI9uOY",
        "outputId": "7188f1cb-10f6-4985-8b6e-2128a343dfc9"
      },
      "execution_count": null,
      "outputs": [
        {
          "output_type": "execute_result",
          "data": {
            "text/plain": [
              "29"
            ]
          },
          "metadata": {},
          "execution_count": 5
        }
      ]
    },
    {
      "cell_type": "code",
      "source": [
        "D1.get(\"10-K\", \"BANF\", after=\"1994-12-31\", before=\"2024-01-01\")"
      ],
      "metadata": {
        "colab": {
          "base_uri": "https://localhost:8080/"
        },
        "id": "SMdhDaT_-PAd",
        "outputId": "29f4f02f-ab33-40eb-e330-c6696a6f7446"
      },
      "execution_count": null,
      "outputs": [
        {
          "output_type": "execute_result",
          "data": {
            "text/plain": [
              "28"
            ]
          },
          "metadata": {},
          "execution_count": 6
        }
      ]
    },
    {
      "cell_type": "markdown",
      "source": [
        "The Filing reports for each companies are stored in the `sec-edgar-filings` directory"
      ],
      "metadata": {
        "id": "_APvUGk9AiMm"
      }
    },
    {
      "cell_type": "markdown",
      "source": [
        "## Step 3: Creating a Function to Automatically download the 10-K filings given company name"
      ],
      "metadata": {
        "id": "9Bdg8GTU6tmB"
      }
    },
    {
      "cell_type": "markdown",
      "source": [
        "Uptill now, we have downloaded the 10-K filings using GET method by manually entering the company details, now we will build a function to automate the process."
      ],
      "metadata": {
        "id": "d78rF6K2BHuu"
      }
    },
    {
      "cell_type": "code",
      "source": [
        "def get10Kfilings(name, email, path, companyname):\n",
        "  d = Downloader(name, email, path)\n",
        "  return d.get(\"10-K\", companyname, after=\"1994-12-31\", before=\"2024-01-01\")"
      ],
      "metadata": {
        "id": "OUgcDhCWBy2r"
      },
      "execution_count": null,
      "outputs": []
    },
    {
      "cell_type": "code",
      "source": [
        "get10Kfilings(\"JHON\", \"jhondoe@gmail.com\", \".\", \"F\")"
      ],
      "metadata": {
        "colab": {
          "base_uri": "https://localhost:8080/"
        },
        "id": "QdqUpfZkC8F5",
        "outputId": "43550658-737c-4970-f93b-67d87b174992"
      },
      "execution_count": null,
      "outputs": [
        {
          "output_type": "execute_result",
          "data": {
            "text/plain": [
              "26"
            ]
          },
          "metadata": {},
          "execution_count": 8
        }
      ]
    },
    {
      "cell_type": "markdown",
      "source": [
        "Now that we have created a function to download the 10k filings for a given company. lets move on to the next part of the task"
      ],
      "metadata": {
        "id": "7lIUOB4ZE_-h"
      }
    }
  ]
}